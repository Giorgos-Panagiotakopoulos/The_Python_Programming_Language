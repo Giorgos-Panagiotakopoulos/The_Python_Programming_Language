{
 "cells": [
  {
   "cell_type": "code",
   "execution_count": 3,
   "metadata": {},
   "outputs": [],
   "source": [
    "import pandas as pd\n",
    "import random \n",
    "from sklearn.model_selection import train_test_split\n",
    "from sklearn.linear_model import LinearRegression\n",
    "from sklearn.metrics import mean_squared_error"
   ]
  },
  {
   "cell_type": "code",
   "execution_count": 4,
   "metadata": {},
   "outputs": [],
   "source": [
    "# Generate sample dataset\n",
    "num_samples = 1000\n",
    "data = {\n",
    "    'production_cost': [round(random.uniform(5, 50), 2) for _ in range(num_samples)],\n",
    "    'competitor_price': [round(random.uniform(10, 60), 2) for _ in range(num_samples)],\n",
    "    'demand_level': [round(random.uniform(0.5, 2), 2) for _ in range(num_samples)],\n",
    "    'market_share': [round(random.uniform(0.1, 0.9), 2) for _ in range(num_samples)]\n",
    "}"
   ]
  },
  {
   "cell_type": "code",
   "execution_count": 6,
   "metadata": {},
   "outputs": [
    {
     "data": {
      "text/html": [
       "<div>\n",
       "<style scoped>\n",
       "    .dataframe tbody tr th:only-of-type {\n",
       "        vertical-align: middle;\n",
       "    }\n",
       "\n",
       "    .dataframe tbody tr th {\n",
       "        vertical-align: top;\n",
       "    }\n",
       "\n",
       "    .dataframe thead th {\n",
       "        text-align: right;\n",
       "    }\n",
       "</style>\n",
       "<table border=\"1\" class=\"dataframe\">\n",
       "  <thead>\n",
       "    <tr style=\"text-align: right;\">\n",
       "      <th></th>\n",
       "      <th>production_cost</th>\n",
       "      <th>competitor_price</th>\n",
       "      <th>demand_level</th>\n",
       "      <th>market_share</th>\n",
       "    </tr>\n",
       "  </thead>\n",
       "  <tbody>\n",
       "    <tr>\n",
       "      <th>0</th>\n",
       "      <td>42.18</td>\n",
       "      <td>10.39</td>\n",
       "      <td>1.26</td>\n",
       "      <td>0.36</td>\n",
       "    </tr>\n",
       "    <tr>\n",
       "      <th>1</th>\n",
       "      <td>25.00</td>\n",
       "      <td>10.83</td>\n",
       "      <td>1.85</td>\n",
       "      <td>0.37</td>\n",
       "    </tr>\n",
       "    <tr>\n",
       "      <th>2</th>\n",
       "      <td>42.10</td>\n",
       "      <td>29.32</td>\n",
       "      <td>0.92</td>\n",
       "      <td>0.34</td>\n",
       "    </tr>\n",
       "    <tr>\n",
       "      <th>3</th>\n",
       "      <td>5.75</td>\n",
       "      <td>14.19</td>\n",
       "      <td>0.64</td>\n",
       "      <td>0.73</td>\n",
       "    </tr>\n",
       "    <tr>\n",
       "      <th>4</th>\n",
       "      <td>34.66</td>\n",
       "      <td>26.53</td>\n",
       "      <td>0.56</td>\n",
       "      <td>0.16</td>\n",
       "    </tr>\n",
       "    <tr>\n",
       "      <th>...</th>\n",
       "      <td>...</td>\n",
       "      <td>...</td>\n",
       "      <td>...</td>\n",
       "      <td>...</td>\n",
       "    </tr>\n",
       "    <tr>\n",
       "      <th>995</th>\n",
       "      <td>10.57</td>\n",
       "      <td>51.62</td>\n",
       "      <td>1.58</td>\n",
       "      <td>0.37</td>\n",
       "    </tr>\n",
       "    <tr>\n",
       "      <th>996</th>\n",
       "      <td>46.87</td>\n",
       "      <td>28.19</td>\n",
       "      <td>1.78</td>\n",
       "      <td>0.59</td>\n",
       "    </tr>\n",
       "    <tr>\n",
       "      <th>997</th>\n",
       "      <td>43.01</td>\n",
       "      <td>39.49</td>\n",
       "      <td>1.44</td>\n",
       "      <td>0.24</td>\n",
       "    </tr>\n",
       "    <tr>\n",
       "      <th>998</th>\n",
       "      <td>33.83</td>\n",
       "      <td>51.76</td>\n",
       "      <td>1.78</td>\n",
       "      <td>0.56</td>\n",
       "    </tr>\n",
       "    <tr>\n",
       "      <th>999</th>\n",
       "      <td>43.49</td>\n",
       "      <td>34.96</td>\n",
       "      <td>1.89</td>\n",
       "      <td>0.53</td>\n",
       "    </tr>\n",
       "  </tbody>\n",
       "</table>\n",
       "<p>1000 rows × 4 columns</p>\n",
       "</div>"
      ],
      "text/plain": [
       "     production_cost  competitor_price  demand_level  market_share\n",
       "0              42.18             10.39          1.26          0.36\n",
       "1              25.00             10.83          1.85          0.37\n",
       "2              42.10             29.32          0.92          0.34\n",
       "3               5.75             14.19          0.64          0.73\n",
       "4              34.66             26.53          0.56          0.16\n",
       "..               ...               ...           ...           ...\n",
       "995            10.57             51.62          1.58          0.37\n",
       "996            46.87             28.19          1.78          0.59\n",
       "997            43.01             39.49          1.44          0.24\n",
       "998            33.83             51.76          1.78          0.56\n",
       "999            43.49             34.96          1.89          0.53\n",
       "\n",
       "[1000 rows x 4 columns]"
      ]
     },
     "execution_count": 6,
     "metadata": {},
     "output_type": "execute_result"
    }
   ],
   "source": [
    "df = pd.DataFrame(data)\n",
    "df"
   ]
  },
  {
   "cell_type": "code",
   "execution_count": 7,
   "metadata": {},
   "outputs": [
    {
     "data": {
      "text/html": [
       "<div>\n",
       "<style scoped>\n",
       "    .dataframe tbody tr th:only-of-type {\n",
       "        vertical-align: middle;\n",
       "    }\n",
       "\n",
       "    .dataframe tbody tr th {\n",
       "        vertical-align: top;\n",
       "    }\n",
       "\n",
       "    .dataframe thead th {\n",
       "        text-align: right;\n",
       "    }\n",
       "</style>\n",
       "<table border=\"1\" class=\"dataframe\">\n",
       "  <thead>\n",
       "    <tr style=\"text-align: right;\">\n",
       "      <th></th>\n",
       "      <th>production_cost</th>\n",
       "      <th>competitor_price</th>\n",
       "      <th>demand_level</th>\n",
       "      <th>market_share</th>\n",
       "    </tr>\n",
       "  </thead>\n",
       "  <tbody>\n",
       "    <tr>\n",
       "      <th>0</th>\n",
       "      <td>42.18</td>\n",
       "      <td>10.39</td>\n",
       "      <td>1.26</td>\n",
       "      <td>0.36</td>\n",
       "    </tr>\n",
       "    <tr>\n",
       "      <th>1</th>\n",
       "      <td>25.00</td>\n",
       "      <td>10.83</td>\n",
       "      <td>1.85</td>\n",
       "      <td>0.37</td>\n",
       "    </tr>\n",
       "    <tr>\n",
       "      <th>2</th>\n",
       "      <td>42.10</td>\n",
       "      <td>29.32</td>\n",
       "      <td>0.92</td>\n",
       "      <td>0.34</td>\n",
       "    </tr>\n",
       "    <tr>\n",
       "      <th>3</th>\n",
       "      <td>5.75</td>\n",
       "      <td>14.19</td>\n",
       "      <td>0.64</td>\n",
       "      <td>0.73</td>\n",
       "    </tr>\n",
       "    <tr>\n",
       "      <th>4</th>\n",
       "      <td>34.66</td>\n",
       "      <td>26.53</td>\n",
       "      <td>0.56</td>\n",
       "      <td>0.16</td>\n",
       "    </tr>\n",
       "    <tr>\n",
       "      <th>...</th>\n",
       "      <td>...</td>\n",
       "      <td>...</td>\n",
       "      <td>...</td>\n",
       "      <td>...</td>\n",
       "    </tr>\n",
       "    <tr>\n",
       "      <th>995</th>\n",
       "      <td>10.57</td>\n",
       "      <td>51.62</td>\n",
       "      <td>1.58</td>\n",
       "      <td>0.37</td>\n",
       "    </tr>\n",
       "    <tr>\n",
       "      <th>996</th>\n",
       "      <td>46.87</td>\n",
       "      <td>28.19</td>\n",
       "      <td>1.78</td>\n",
       "      <td>0.59</td>\n",
       "    </tr>\n",
       "    <tr>\n",
       "      <th>997</th>\n",
       "      <td>43.01</td>\n",
       "      <td>39.49</td>\n",
       "      <td>1.44</td>\n",
       "      <td>0.24</td>\n",
       "    </tr>\n",
       "    <tr>\n",
       "      <th>998</th>\n",
       "      <td>33.83</td>\n",
       "      <td>51.76</td>\n",
       "      <td>1.78</td>\n",
       "      <td>0.56</td>\n",
       "    </tr>\n",
       "    <tr>\n",
       "      <th>999</th>\n",
       "      <td>43.49</td>\n",
       "      <td>34.96</td>\n",
       "      <td>1.89</td>\n",
       "      <td>0.53</td>\n",
       "    </tr>\n",
       "  </tbody>\n",
       "</table>\n",
       "<p>1000 rows × 4 columns</p>\n",
       "</div>"
      ],
      "text/plain": [
       "     production_cost  competitor_price  demand_level  market_share\n",
       "0              42.18             10.39          1.26          0.36\n",
       "1              25.00             10.83          1.85          0.37\n",
       "2              42.10             29.32          0.92          0.34\n",
       "3               5.75             14.19          0.64          0.73\n",
       "4              34.66             26.53          0.56          0.16\n",
       "..               ...               ...           ...           ...\n",
       "995            10.57             51.62          1.58          0.37\n",
       "996            46.87             28.19          1.78          0.59\n",
       "997            43.01             39.49          1.44          0.24\n",
       "998            33.83             51.76          1.78          0.56\n",
       "999            43.49             34.96          1.89          0.53\n",
       "\n",
       "[1000 rows x 4 columns]"
      ]
     },
     "execution_count": 7,
     "metadata": {},
     "output_type": "execute_result"
    }
   ],
   "source": [
    "# Split dataset into features and target variable\n",
    "X = df[['production_cost', 'competitor_price', 'demand_level', 'market_share']]\n",
    "X"
   ]
  },
  {
   "cell_type": "code",
   "execution_count": 8,
   "metadata": {},
   "outputs": [
    {
     "data": {
      "text/plain": [
       "0      15.06550\n",
       "1      18.84420\n",
       "2      37.82280\n",
       "3      13.55145\n",
       "4      31.83600\n",
       "         ...   \n",
       "995    82.85010\n",
       "996    44.96305\n",
       "997    63.18400\n",
       "998    83.33360\n",
       "999    58.73280\n",
       "Length: 1000, dtype: float64"
      ]
     },
     "execution_count": 8,
     "metadata": {},
     "output_type": "execute_result"
    }
   ],
   "source": [
    "y = df['optimal_price'] = df['competitor_price'] * (1 + (df['demand_level'] - df['market_share'])/2)\n",
    "y"
   ]
  },
  {
   "cell_type": "code",
   "execution_count": 9,
   "metadata": {},
   "outputs": [
    {
     "data": {
      "text/html": [
       "<style>#sk-container-id-1 {color: black;background-color: white;}#sk-container-id-1 pre{padding: 0;}#sk-container-id-1 div.sk-toggleable {background-color: white;}#sk-container-id-1 label.sk-toggleable__label {cursor: pointer;display: block;width: 100%;margin-bottom: 0;padding: 0.3em;box-sizing: border-box;text-align: center;}#sk-container-id-1 label.sk-toggleable__label-arrow:before {content: \"▸\";float: left;margin-right: 0.25em;color: #696969;}#sk-container-id-1 label.sk-toggleable__label-arrow:hover:before {color: black;}#sk-container-id-1 div.sk-estimator:hover label.sk-toggleable__label-arrow:before {color: black;}#sk-container-id-1 div.sk-toggleable__content {max-height: 0;max-width: 0;overflow: hidden;text-align: left;background-color: #f0f8ff;}#sk-container-id-1 div.sk-toggleable__content pre {margin: 0.2em;color: black;border-radius: 0.25em;background-color: #f0f8ff;}#sk-container-id-1 input.sk-toggleable__control:checked~div.sk-toggleable__content {max-height: 200px;max-width: 100%;overflow: auto;}#sk-container-id-1 input.sk-toggleable__control:checked~label.sk-toggleable__label-arrow:before {content: \"▾\";}#sk-container-id-1 div.sk-estimator input.sk-toggleable__control:checked~label.sk-toggleable__label {background-color: #d4ebff;}#sk-container-id-1 div.sk-label input.sk-toggleable__control:checked~label.sk-toggleable__label {background-color: #d4ebff;}#sk-container-id-1 input.sk-hidden--visually {border: 0;clip: rect(1px 1px 1px 1px);clip: rect(1px, 1px, 1px, 1px);height: 1px;margin: -1px;overflow: hidden;padding: 0;position: absolute;width: 1px;}#sk-container-id-1 div.sk-estimator {font-family: monospace;background-color: #f0f8ff;border: 1px dotted black;border-radius: 0.25em;box-sizing: border-box;margin-bottom: 0.5em;}#sk-container-id-1 div.sk-estimator:hover {background-color: #d4ebff;}#sk-container-id-1 div.sk-parallel-item::after {content: \"\";width: 100%;border-bottom: 1px solid gray;flex-grow: 1;}#sk-container-id-1 div.sk-label:hover label.sk-toggleable__label {background-color: #d4ebff;}#sk-container-id-1 div.sk-serial::before {content: \"\";position: absolute;border-left: 1px solid gray;box-sizing: border-box;top: 0;bottom: 0;left: 50%;z-index: 0;}#sk-container-id-1 div.sk-serial {display: flex;flex-direction: column;align-items: center;background-color: white;padding-right: 0.2em;padding-left: 0.2em;position: relative;}#sk-container-id-1 div.sk-item {position: relative;z-index: 1;}#sk-container-id-1 div.sk-parallel {display: flex;align-items: stretch;justify-content: center;background-color: white;position: relative;}#sk-container-id-1 div.sk-item::before, #sk-container-id-1 div.sk-parallel-item::before {content: \"\";position: absolute;border-left: 1px solid gray;box-sizing: border-box;top: 0;bottom: 0;left: 50%;z-index: -1;}#sk-container-id-1 div.sk-parallel-item {display: flex;flex-direction: column;z-index: 1;position: relative;background-color: white;}#sk-container-id-1 div.sk-parallel-item:first-child::after {align-self: flex-end;width: 50%;}#sk-container-id-1 div.sk-parallel-item:last-child::after {align-self: flex-start;width: 50%;}#sk-container-id-1 div.sk-parallel-item:only-child::after {width: 0;}#sk-container-id-1 div.sk-dashed-wrapped {border: 1px dashed gray;margin: 0 0.4em 0.5em 0.4em;box-sizing: border-box;padding-bottom: 0.4em;background-color: white;}#sk-container-id-1 div.sk-label label {font-family: monospace;font-weight: bold;display: inline-block;line-height: 1.2em;}#sk-container-id-1 div.sk-label-container {text-align: center;}#sk-container-id-1 div.sk-container {/* jupyter's `normalize.less` sets `[hidden] { display: none; }` but bootstrap.min.css set `[hidden] { display: none !important; }` so we also need the `!important` here to be able to override the default hidden behavior on the sphinx rendered scikit-learn.org. See: https://github.com/scikit-learn/scikit-learn/issues/21755 */display: inline-block !important;position: relative;}#sk-container-id-1 div.sk-text-repr-fallback {display: none;}</style><div id=\"sk-container-id-1\" class=\"sk-top-container\"><div class=\"sk-text-repr-fallback\"><pre>LinearRegression()</pre><b>In a Jupyter environment, please rerun this cell to show the HTML representation or trust the notebook. <br />On GitHub, the HTML representation is unable to render, please try loading this page with nbviewer.org.</b></div><div class=\"sk-container\" hidden><div class=\"sk-item\"><div class=\"sk-estimator sk-toggleable\"><input class=\"sk-toggleable__control sk-hidden--visually\" id=\"sk-estimator-id-1\" type=\"checkbox\" checked><label for=\"sk-estimator-id-1\" class=\"sk-toggleable__label sk-toggleable__label-arrow\">LinearRegression</label><div class=\"sk-toggleable__content\"><pre>LinearRegression()</pre></div></div></div></div></div>"
      ],
      "text/plain": [
       "LinearRegression()"
      ]
     },
     "execution_count": 9,
     "metadata": {},
     "output_type": "execute_result"
    }
   ],
   "source": [
    "# Split data into training and testing sets\n",
    "X_train, X_test, y_train, y_test = train_test_split(X, y, test_size=0.2, random_state=42)\n",
    "\n",
    "# Train regression model\n",
    "model = LinearRegression()\n",
    "model.fit(X_train, y_train)"
   ]
  },
  {
   "cell_type": "code",
   "execution_count": 11,
   "metadata": {},
   "outputs": [
    {
     "data": {
      "text/plain": [
       "array([15.05116695, 84.88871467, 70.3097205 , 14.72732336, 42.30206765,\n",
       "       61.84830986, 52.86858085, 78.31158142, 43.54315292, 37.7944638 ,\n",
       "       31.68241412, 60.94623865, 49.94768328, 62.2659099 , 60.89363004,\n",
       "       34.28555113, 48.55934448, 39.90794228, 54.7561747 , 72.77133378,\n",
       "       88.89859478, 44.07042586, 27.45105734, 51.66091367, 36.46428647,\n",
       "       68.26292092, 19.61570089, 24.20816524, 35.33594619, 40.95152817,\n",
       "       64.28074031, 22.31276938, 16.78878087, 21.10642695, 22.52237852,\n",
       "        8.66996062, 65.18702621, 45.36342744, 86.6896958 , 25.53153539,\n",
       "       26.80101932, 56.1075101 , 35.45895922, 19.41132123, 50.98161812,\n",
       "       52.5749897 , 69.67136625, 54.06911626, 73.10430297, 64.88138111,\n",
       "       23.51373752, 35.55704411, 50.32212234, 68.07938157, 65.01066807,\n",
       "       49.05460962, 43.63845095, 49.18186308, 90.84554682, 45.52915515,\n",
       "       59.12676347, 59.60252513, 87.36910863, 26.31012288, 53.60012385,\n",
       "       58.22935853, 56.15595707, 38.03225982, 51.78598181, 58.76287639,\n",
       "        9.13544524, 80.14811336, 17.8025333 , 62.78365162, 27.90953165,\n",
       "       79.30268537,  3.73853653, 70.89063313, 12.85472464, 37.4391773 ,\n",
       "       36.57352313, 42.32311527,  6.28284653, 35.09587791, 93.31651833,\n",
       "       83.45959485, 79.11480512, 84.2035388 , 57.21480298, 17.3125005 ,\n",
       "       30.93980322, 66.99708935, 70.78228988, 75.30836053, 61.03884261,\n",
       "       86.53236035, 67.44115121, 26.70464669, 37.78501743, 14.64091857,\n",
       "       82.97338002, 26.07037262, 89.53466696, 62.8872813 , 55.19148493,\n",
       "       53.00024633, 62.05256527, 68.35885975, 43.22027666, 52.63064005,\n",
       "       43.66198025, 23.73354722, 43.32251094, 66.09418537, 70.26460004,\n",
       "       71.21727554, 60.66231237, 55.81199229, 19.39927292, 34.64469651,\n",
       "       47.31378772, 79.90240422, 10.74538227, 68.15354257, 30.77350298,\n",
       "       20.79143784, 48.48100137, 42.85434642, 38.45691325, 54.93979708,\n",
       "       76.59069716, 35.61153724, 38.24064852, 79.09531435, 58.91943915,\n",
       "       88.61298003, 56.91241319, 57.35441838, 62.77844268, 19.31982787,\n",
       "       89.04437562, 45.91244045, 22.86259245, 70.91110227, 44.98641349,\n",
       "       70.41673661, 37.98731731, 57.08672357, 53.53295266, 33.99882934,\n",
       "       20.76557969, 38.16072505, 48.80338232, 34.10227041, 45.74101104,\n",
       "       44.376382  , 22.22876662, 50.80319384, 77.76098221, 29.09568097,\n",
       "       60.0393971 , 71.59379285, 40.44761525, 22.63071643, 37.93342111,\n",
       "       50.0288582 , 37.00546336, 20.21377564, 27.25784853, 69.77285087,\n",
       "       12.37224155, 35.11563504, 61.17554186, 20.03555606, 97.80977003,\n",
       "       64.06870712, 57.02397483, 37.00865658, 23.10720353, 40.3446753 ,\n",
       "       45.57086149, 51.31736041, 14.11192292, 89.45502898, 35.43916082,\n",
       "       19.83202066, 67.31017591, 44.77143739, 34.70793921, 47.35862694,\n",
       "       67.11529106, 45.79130598, 74.93327287, 70.26967918, 37.94961056,\n",
       "       78.15726247, 59.18040208, 51.66727295, 18.76432215, 25.53823346])"
      ]
     },
     "execution_count": 11,
     "metadata": {},
     "output_type": "execute_result"
    }
   ],
   "source": [
    "# Make predictions\n",
    "y_pred = model.predict(X_test)\n",
    "y_pred"
   ]
  },
  {
   "cell_type": "code",
   "execution_count": 12,
   "metadata": {},
   "outputs": [
    {
     "name": "stdout",
     "output_type": "stream",
     "text": [
      "Mean Squared Error: 13.877714329769015\n"
     ]
    }
   ],
   "source": [
    "# Evaluate model\n",
    "mse = mean_squared_error(y_test, y_pred)\n",
    "print(\"Mean Squared Error:\", mse)"
   ]
  },
  {
   "cell_type": "code",
   "execution_count": 14,
   "metadata": {},
   "outputs": [
    {
     "data": {
      "text/html": [
       "<div>\n",
       "<style scoped>\n",
       "    .dataframe tbody tr th:only-of-type {\n",
       "        vertical-align: middle;\n",
       "    }\n",
       "\n",
       "    .dataframe tbody tr th {\n",
       "        vertical-align: top;\n",
       "    }\n",
       "\n",
       "    .dataframe thead th {\n",
       "        text-align: right;\n",
       "    }\n",
       "</style>\n",
       "<table border=\"1\" class=\"dataframe\">\n",
       "  <thead>\n",
       "    <tr style=\"text-align: right;\">\n",
       "      <th></th>\n",
       "      <th>production_cost</th>\n",
       "      <th>competitor_price</th>\n",
       "      <th>demand_level</th>\n",
       "      <th>market_share</th>\n",
       "    </tr>\n",
       "  </thead>\n",
       "  <tbody>\n",
       "    <tr>\n",
       "      <th>0</th>\n",
       "      <td>25</td>\n",
       "      <td>30</td>\n",
       "      <td>1.5</td>\n",
       "      <td>0.6</td>\n",
       "    </tr>\n",
       "  </tbody>\n",
       "</table>\n",
       "</div>"
      ],
      "text/plain": [
       "   production_cost  competitor_price  demand_level  market_share\n",
       "0               25                30           1.5           0.6"
      ]
     },
     "execution_count": 14,
     "metadata": {},
     "output_type": "execute_result"
    }
   ],
   "source": [
    "# Example usage for a new product\n",
    "new_product_features = pd.DataFrame({\n",
    "    'production_cost': [25],\n",
    "    'competitor_price': [30],\n",
    "    'demand_level': [1.5],\n",
    "    'market_share': [0.6]\n",
    "})\n",
    "new_product_features"
   ]
  },
  {
   "cell_type": "code",
   "execution_count": 15,
   "metadata": {},
   "outputs": [
    {
     "name": "stdout",
     "output_type": "stream",
     "text": [
      "Predicted price for the new product: 43.99968391774987\n"
     ]
    }
   ],
   "source": [
    "predicted_price = model.predict(new_product_features)\n",
    "print(\"Predicted price for the new product:\", predicted_price[0])"
   ]
  },
  {
   "cell_type": "code",
   "execution_count": null,
   "metadata": {},
   "outputs": [],
   "source": []
  }
 ],
 "metadata": {
  "kernelspec": {
   "display_name": "Python 3",
   "language": "python",
   "name": "python3"
  },
  "language_info": {
   "codemirror_mode": {
    "name": "ipython",
    "version": 3
   },
   "file_extension": ".py",
   "mimetype": "text/x-python",
   "name": "python",
   "nbconvert_exporter": "python",
   "pygments_lexer": "ipython3",
   "version": "3.8.5"
  }
 },
 "nbformat": 4,
 "nbformat_minor": 4
}
